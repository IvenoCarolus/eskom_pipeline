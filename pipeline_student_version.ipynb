{
  "nbformat": 4,
  "nbformat_minor": 0,
  "metadata": {
    "kernelspec": {
      "display_name": "Python 3",
      "language": "python",
      "name": "python3"
    },
    "language_info": {
      "codemirror_mode": {
        "name": "ipython",
        "version": 3
      },
      "file_extension": ".py",
      "mimetype": "text/x-python",
      "name": "python",
      "nbconvert_exporter": "python",
      "pygments_lexer": "ipython3",
      "version": "3.6.8"
    },
    "colab": {
      "name": "pipeline_student_version.ipynb",
      "provenance": []
    }
  },
  "cells": [
    {
      "cell_type": "markdown",
      "metadata": {
        "id": "t6z7ncXirnv7",
        "colab_type": "text"
      },
      "source": [
        "# Building an ETL Pipeline\n",
        "\n",
        "As the second part of the predict for Gather, you will need to build a pipeline of functions in python which does the following:\n",
        "\n",
        "1. Function to connect to twitter and scrapes \"Eskom_SA\" tweets.\n",
        "<br>\n",
        "<br>\n",
        "2. Cleans/Processes the tweets from the scraped tweets which will create a dataframe with two new columns using the following functions: <br>\n",
        "&nbsp;&nbsp;&nbsp;&nbsp;&nbsp;&nbsp; a) Hashtag Remover from Analyse Functions\n",
        "<br>\n",
        "<br>\n",
        "3. Functions which connects to your SQL database and uploads the tweets into the table you store the tweets in the database."
      ]
    },
    {
      "cell_type": "code",
      "metadata": {
        "id": "jtYowqI_RiBL",
        "colab_type": "code",
        "colab": {}
      },
      "source": [
        "# General:\n",
        "import tweepy           # To consume Twitter's API\n",
        "from tweepy import OAuthHandler\n",
        "from tweepy import Cursor\n",
        "from datetime import datetime, date, time, timedelta\n",
        "from collections import Counter\n",
        "import sys\n",
        "import pandas as pd     # To handle data\n",
        "import numpy as np      # For numerical computation\n",
        "import json\n",
        "# For plotting and visualization:\n",
        "from IPython.display import display\n",
        "import pyodbc\n"
      ],
      "execution_count": 0,
      "outputs": []
    },
    {
      "cell_type": "markdown",
      "metadata": {
        "id": "EykRIHe8ykYS",
        "colab_type": "text"
      },
      "source": [
        "# Consumer and Access details\n",
        "\n",
        "Fill in your Consumer and Access details you should have recieved when applying for a Twitter API. "
      ]
    },
    {
      "cell_type": "code",
      "metadata": {
        "id": "lquylmvOnFvt",
        "colab_type": "code",
        "colab": {}
      },
      "source": [
        "# Consumer:\n",
        "CONSUMER_KEY    = 'uXfKji3NyWLDEGI3gXxx3tBNc'\n",
        "CONSUMER_SECRET = 'eiuC2xhRfbmbY2gSplZOcL4dPSSUiqmB8SbLk6eGuZ2DaBaYQj'\n",
        "\n",
        "# Access:\n",
        "ACCESS_TOKEN  = '1219607153163603968-oOHm1E2uXjyBiBOkkKNExfAwvU4dVd'\n",
        "ACCESS_SECRET = '3dZ7jyldTV1m1RxoVPv8VEOT92m2OwEPpF1Syj0j2Mu95'"
      ],
      "execution_count": 0,
      "outputs": []
    },
    {
      "cell_type": "code",
      "metadata": {
        "id": "01RMZH30RiBU",
        "colab_type": "code",
        "colab": {}
      },
      "source": [
        "# API's setup:\n",
        "def twitter_setup():\n",
        "    \"\"\"\n",
        "    Utility function to setup the Twitter's API\n",
        "    with access and consumer keys from Twitter.\n",
        "    \"\"\"\n",
        "\n",
        "    # Authentication and access using keys:\n",
        "    auth = tweepy.OAuthHandler(CONSUMER_KEY, CONSUMER_SECRET)\n",
        "    auth.set_access_token(ACCESS_TOKEN, ACCESS_SECRET)\n",
        "\n",
        "    # Return API with authentication:\n",
        "    api = tweepy.API(auth, timeout=1000)\n",
        "    return api"
      ],
      "execution_count": 0,
      "outputs": []
    },
    {
      "cell_type": "markdown",
      "metadata": {
        "id": "I5nbkmC9vk8F",
        "colab_type": "text"
      },
      "source": [
        "# Function 1:\n",
        "\n",
        "Write a function which:\n",
        "- Scrapes _\"Eskom_SA\"_ tweets from Twitter. \n",
        "\n",
        "Function Specifications:\n",
        "- The function should return a dataframe with the scraped tweets with just the \"_Tweets_\" and \"_Date_\". \n",
        "- Will take in the ```consumer key,  consumer secret code, access token``` and ```access secret code```.\n",
        "\n",
        "NOTE:\n",
        "The dataframe should have the same column names as those in your SQL Database table where you store the tweets."
      ]
    },
    {
      "cell_type": "code",
      "metadata": {
        "id": "eF6Vnzl3RiBX",
        "colab_type": "code",
        "colab": {
          "base_uri": "https://localhost:8080/",
          "height": 407
        },
        "outputId": "28a9e3fc-15bf-4f6e-f452-c4d123d2cff8"
      },
      "source": [
        "def twitter_df():\n",
        "  api = twitter_setup()\n",
        "  all_tweets = []\n",
        "  tweets = api.user_timeline(screen_name='ESKOM_SA', \n",
        "                           # 200 is the maximum allowed count\n",
        "                           count=200,\n",
        "                           include_rts = False,\n",
        "                           # Necessary to keep full_text \n",
        "                           # otherwise only the first 140 words are extracted\n",
        "                           tweet_mode = 'extended'\n",
        "                           )\n",
        "  all_tweets.extend(tweets)\n",
        "  \n",
        "  outtweets = [[tweet.full_text.encode(\"utf-8\").decode(\"utf-8\"),tweet.created_at] \n",
        "              for idx,tweet in enumerate(all_tweets)]\n",
        "  df = pd.DataFrame(outtweets,columns=['Tweets','Date'])\n",
        "  df.set_index('Tweets')\n",
        "  return df\n",
        "twitter_df()"
      ],
      "execution_count": 41,
      "outputs": [
        {
          "output_type": "execute_result",
          "data": {
            "text/html": [
              "<div>\n",
              "<style scoped>\n",
              "    .dataframe tbody tr th:only-of-type {\n",
              "        vertical-align: middle;\n",
              "    }\n",
              "\n",
              "    .dataframe tbody tr th {\n",
              "        vertical-align: top;\n",
              "    }\n",
              "\n",
              "    .dataframe thead th {\n",
              "        text-align: right;\n",
              "    }\n",
              "</style>\n",
              "<table border=\"1\" class=\"dataframe\">\n",
              "  <thead>\n",
              "    <tr style=\"text-align: right;\">\n",
              "      <th></th>\n",
              "      <th>Tweets</th>\n",
              "      <th>Date</th>\n",
              "    </tr>\n",
              "  </thead>\n",
              "  <tbody>\n",
              "    <tr>\n",
              "      <th>0</th>\n",
              "      <td>The Distribution Group Executive (GE),  Monde ...</td>\n",
              "      <td>2020-03-03 11:47:46</td>\n",
              "    </tr>\n",
              "    <tr>\n",
              "      <th>1</th>\n",
              "      <td>It is a criminal offence to break or steal cov...</td>\n",
              "      <td>2020-03-03 10:30:00</td>\n",
              "    </tr>\n",
              "    <tr>\n",
              "      <th>2</th>\n",
              "      <td>Eskom's Visitors Centres’ facilities include i...</td>\n",
              "      <td>2020-03-03 08:30:00</td>\n",
              "    </tr>\n",
              "    <tr>\n",
              "      <th>3</th>\n",
              "      <td>#Eskom_EasternCape #MediaStatement\\n\\nEskom SU...</td>\n",
              "      <td>2020-03-03 07:45:10</td>\n",
              "    </tr>\n",
              "    <tr>\n",
              "      <th>4</th>\n",
              "      <td>@Esihleeh What is the issue that was reported?</td>\n",
              "      <td>2020-03-03 06:44:27</td>\n",
              "    </tr>\n",
              "    <tr>\n",
              "      <th>...</th>\n",
              "      <td>...</td>\n",
              "      <td>...</td>\n",
              "    </tr>\n",
              "    <tr>\n",
              "      <th>174</th>\n",
              "      <td>@whelanism If your power is off outside your l...</td>\n",
              "      <td>2020-02-21 09:07:44</td>\n",
              "    </tr>\n",
              "    <tr>\n",
              "      <th>175</th>\n",
              "      <td>@AnnajGoble @EskomSePush Is the area supplied ...</td>\n",
              "      <td>2020-02-21 09:04:22</td>\n",
              "    </tr>\n",
              "    <tr>\n",
              "      <th>176</th>\n",
              "      <td>@beatkonduktor Please report to Customer Servi...</td>\n",
              "      <td>2020-02-21 09:03:48</td>\n",
              "    </tr>\n",
              "    <tr>\n",
              "      <th>177</th>\n",
              "      <td>Eskom still on site https://t.co/ADebEssZO0</td>\n",
              "      <td>2020-02-21 08:08:56</td>\n",
              "    </tr>\n",
              "    <tr>\n",
              "      <th>178</th>\n",
              "      <td>@Floyd_Braaigood It is working on our side htt...</td>\n",
              "      <td>2020-02-21 07:40:41</td>\n",
              "    </tr>\n",
              "  </tbody>\n",
              "</table>\n",
              "<p>179 rows × 2 columns</p>\n",
              "</div>"
            ],
            "text/plain": [
              "                                                Tweets                Date\n",
              "0    The Distribution Group Executive (GE),  Monde ... 2020-03-03 11:47:46\n",
              "1    It is a criminal offence to break or steal cov... 2020-03-03 10:30:00\n",
              "2    Eskom's Visitors Centres’ facilities include i... 2020-03-03 08:30:00\n",
              "3    #Eskom_EasternCape #MediaStatement\\n\\nEskom SU... 2020-03-03 07:45:10\n",
              "4       @Esihleeh What is the issue that was reported? 2020-03-03 06:44:27\n",
              "..                                                 ...                 ...\n",
              "174  @whelanism If your power is off outside your l... 2020-02-21 09:07:44\n",
              "175  @AnnajGoble @EskomSePush Is the area supplied ... 2020-02-21 09:04:22\n",
              "176  @beatkonduktor Please report to Customer Servi... 2020-02-21 09:03:48\n",
              "177        Eskom still on site https://t.co/ADebEssZO0 2020-02-21 08:08:56\n",
              "178  @Floyd_Braaigood It is working on our side htt... 2020-02-21 07:40:41\n",
              "\n",
              "[179 rows x 2 columns]"
            ]
          },
          "metadata": {
            "tags": []
          },
          "execution_count": 41
        }
      ]
    },
    {
      "cell_type": "code",
      "metadata": {
        "id": "oGdiKXaSvK8z",
        "colab_type": "code",
        "colab": {}
      },
      "source": [
        ""
      ],
      "execution_count": 0,
      "outputs": []
    },
    {
      "cell_type": "code",
      "metadata": {
        "id": "ashrauSjvKzs",
        "colab_type": "code",
        "colab": {}
      },
      "source": [
        ""
      ],
      "execution_count": 0,
      "outputs": []
    },
    {
      "cell_type": "markdown",
      "metadata": {
        "id": "mkUQUNKzpUN2",
        "colab_type": "text"
      },
      "source": [
        "# Function 2: Removing hashtags and the municipalities\n",
        "\n",
        "Write a function which:\n",
        "- Uses the function you wrote in the Analyse section to extract the hashtags and municipalities into it's own column in a new data frame. \n",
        "\n",
        "Function Specifications:\n",
        "- The function should take in the pandas dataframe you created in Function 1 and return a new pandas dataframe. "
      ]
    },
    {
      "cell_type": "code",
      "metadata": {
        "id": "o12Z44mZRiBb",
        "colab_type": "code",
        "colab": {}
      },
      "source": [
        "twitter_df(CONSUMER_KEY, CONSUMER_SECRET, ACCESS_TOKEN, ACCESS_SECRET )"
      ],
      "execution_count": 0,
      "outputs": []
    },
    {
      "cell_type": "code",
      "metadata": {
        "id": "UOuThS2kRiBf",
        "colab_type": "code",
        "colab": {
          "base_uri": "https://localhost:8080/",
          "height": 407
        },
        "outputId": "329e6ac2-a188-4234-839f-867fb862c60c"
      },
      "source": [
        "def extract_municipality_hashtags(df):\n",
        "    new_df = pd.DataFrame([])\n",
        "    municipality_dict = { '@CityofCTAlerts' : 'Cape Town',\n",
        "            '@CityPowerJhb' : 'Johannesburg',\n",
        "            '@eThekwiniM' : 'eThekwini' ,\n",
        "            '@EMMInfo' : 'Ekurhuleni',\n",
        "            '@centlecutility' : 'Mangaung',\n",
        "            '@NMBmunicipality' : 'Nelson Mandela Bay',\n",
        "            '@CityTshwane' : 'Tshwane'}\n",
        "  \n",
        "    length = len(df['Tweets'])\n",
        "    mun_list = []\n",
        "    flag = 0\n",
        "    for row in df['Tweets']:\n",
        "        flag = 0\n",
        "        for key in municipality_dict.keys():\n",
        "            if key in row:\n",
        "               mun_list.append(municipality_dict[key])\n",
        "               flag = 1\n",
        "            break\n",
        "        if not flag:\n",
        "          mun_list.append(np.nan)\n",
        "\n",
        "    final_hash = []\n",
        "    for row in df['Tweets']:\n",
        "     final_hash.append([string for string in row.lower().split() if string[0][0] == '#'])\n",
        "    final_hash = [np.nan if x == [] else x for x in final_hash]\n",
        "    \n",
        "    new_df['Tweets'] = df['Tweets']\n",
        "    new_df['Date'] = df['Date']\n",
        "    new_df['municipality'] = mun_list\n",
        "    new_df['hashtags'] = final_hash\n",
        "    \n",
        "    return new_df\n",
        "extract_municipality_hashtags(twitter_df())"
      ],
      "execution_count": 42,
      "outputs": [
        {
          "output_type": "execute_result",
          "data": {
            "text/html": [
              "<div>\n",
              "<style scoped>\n",
              "    .dataframe tbody tr th:only-of-type {\n",
              "        vertical-align: middle;\n",
              "    }\n",
              "\n",
              "    .dataframe tbody tr th {\n",
              "        vertical-align: top;\n",
              "    }\n",
              "\n",
              "    .dataframe thead th {\n",
              "        text-align: right;\n",
              "    }\n",
              "</style>\n",
              "<table border=\"1\" class=\"dataframe\">\n",
              "  <thead>\n",
              "    <tr style=\"text-align: right;\">\n",
              "      <th></th>\n",
              "      <th>Tweets</th>\n",
              "      <th>Date</th>\n",
              "      <th>municipality</th>\n",
              "      <th>hashtags</th>\n",
              "    </tr>\n",
              "  </thead>\n",
              "  <tbody>\n",
              "    <tr>\n",
              "      <th>0</th>\n",
              "      <td>The Distribution Group Executive (GE),  Monde ...</td>\n",
              "      <td>2020-03-03 11:47:46</td>\n",
              "      <td>NaN</td>\n",
              "      <td>NaN</td>\n",
              "    </tr>\n",
              "    <tr>\n",
              "      <th>1</th>\n",
              "      <td>It is a criminal offence to break or steal cov...</td>\n",
              "      <td>2020-03-03 10:30:00</td>\n",
              "      <td>NaN</td>\n",
              "      <td>NaN</td>\n",
              "    </tr>\n",
              "    <tr>\n",
              "      <th>2</th>\n",
              "      <td>Eskom's Visitors Centres’ facilities include i...</td>\n",
              "      <td>2020-03-03 08:30:00</td>\n",
              "      <td>NaN</td>\n",
              "      <td>NaN</td>\n",
              "    </tr>\n",
              "    <tr>\n",
              "      <th>3</th>\n",
              "      <td>#Eskom_EasternCape #MediaStatement\\n\\nEskom SU...</td>\n",
              "      <td>2020-03-03 07:45:10</td>\n",
              "      <td>NaN</td>\n",
              "      <td>[#eskom_easterncape, #mediastatement]</td>\n",
              "    </tr>\n",
              "    <tr>\n",
              "      <th>4</th>\n",
              "      <td>@Esihleeh What is the issue that was reported?</td>\n",
              "      <td>2020-03-03 06:44:27</td>\n",
              "      <td>NaN</td>\n",
              "      <td>NaN</td>\n",
              "    </tr>\n",
              "    <tr>\n",
              "      <th>...</th>\n",
              "      <td>...</td>\n",
              "      <td>...</td>\n",
              "      <td>...</td>\n",
              "      <td>...</td>\n",
              "    </tr>\n",
              "    <tr>\n",
              "      <th>174</th>\n",
              "      <td>@whelanism If your power is off outside your l...</td>\n",
              "      <td>2020-02-21 09:07:44</td>\n",
              "      <td>NaN</td>\n",
              "      <td>NaN</td>\n",
              "    </tr>\n",
              "    <tr>\n",
              "      <th>175</th>\n",
              "      <td>@AnnajGoble @EskomSePush Is the area supplied ...</td>\n",
              "      <td>2020-02-21 09:04:22</td>\n",
              "      <td>NaN</td>\n",
              "      <td>NaN</td>\n",
              "    </tr>\n",
              "    <tr>\n",
              "      <th>176</th>\n",
              "      <td>@beatkonduktor Please report to Customer Servi...</td>\n",
              "      <td>2020-02-21 09:03:48</td>\n",
              "      <td>NaN</td>\n",
              "      <td>NaN</td>\n",
              "    </tr>\n",
              "    <tr>\n",
              "      <th>177</th>\n",
              "      <td>Eskom still on site https://t.co/ADebEssZO0</td>\n",
              "      <td>2020-02-21 08:08:56</td>\n",
              "      <td>NaN</td>\n",
              "      <td>NaN</td>\n",
              "    </tr>\n",
              "    <tr>\n",
              "      <th>178</th>\n",
              "      <td>@Floyd_Braaigood It is working on our side htt...</td>\n",
              "      <td>2020-02-21 07:40:41</td>\n",
              "      <td>NaN</td>\n",
              "      <td>NaN</td>\n",
              "    </tr>\n",
              "  </tbody>\n",
              "</table>\n",
              "<p>179 rows × 4 columns</p>\n",
              "</div>"
            ],
            "text/plain": [
              "                                                Tweets  ...                               hashtags\n",
              "0    The Distribution Group Executive (GE),  Monde ...  ...                                    NaN\n",
              "1    It is a criminal offence to break or steal cov...  ...                                    NaN\n",
              "2    Eskom's Visitors Centres’ facilities include i...  ...                                    NaN\n",
              "3    #Eskom_EasternCape #MediaStatement\\n\\nEskom SU...  ...  [#eskom_easterncape, #mediastatement]\n",
              "4       @Esihleeh What is the issue that was reported?  ...                                    NaN\n",
              "..                                                 ...  ...                                    ...\n",
              "174  @whelanism If your power is off outside your l...  ...                                    NaN\n",
              "175  @AnnajGoble @EskomSePush Is the area supplied ...  ...                                    NaN\n",
              "176  @beatkonduktor Please report to Customer Servi...  ...                                    NaN\n",
              "177        Eskom still on site https://t.co/ADebEssZO0  ...                                    NaN\n",
              "178  @Floyd_Braaigood It is working on our side htt...  ...                                    NaN\n",
              "\n",
              "[179 rows x 4 columns]"
            ]
          },
          "metadata": {
            "tags": []
          },
          "execution_count": 42
        }
      ]
    },
    {
      "cell_type": "markdown",
      "metadata": {
        "id": "L9bXQ_k8xOjV",
        "colab_type": "text"
      },
      "source": [
        "# Function 3: Updating SQL Database with pyODBC\n",
        "\n",
        "Write a function which:\n",
        "- Connects and updates your SQL database. \n",
        "\n",
        "Function Specifications:\n",
        "- The function should take in a pandas dataframe created in Function 2. \n",
        "- Connect to your SQL database.\n",
        "- Update the table you store your tweets in.\n",
        "- Not return any output."
      ]
    },
    {
      "cell_type": "code",
      "metadata": {
        "id": "yqdiXb5JRiBo",
        "colab_type": "code",
        "colab": {}
      },
      "source": [
        "def pyodbc_twitter(connection, df, twitter_table):\n",
        "  connection = pydobc.connect('Driver={SQL Server};'\n",
        "                              'Server=IG-UMH-DSA12\\SQLEXPRESS;'\n",
        "                              'Database=gather_eskom;'\n",
        "                              'Trusted_Connection=yes')\n",
        "  cursor = connection.cursor()\n",
        "  y = cursor.execute('SELECT * FROM gather_eskom.dbo.Station_Type')"
      ],
      "execution_count": 0,
      "outputs": []
    }
  ]
}